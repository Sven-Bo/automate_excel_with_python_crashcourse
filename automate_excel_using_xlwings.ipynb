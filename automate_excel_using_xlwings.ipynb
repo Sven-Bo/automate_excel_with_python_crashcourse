{
 "cells": [
  {
   "cell_type": "markdown",
   "id": "9f671a65",
   "metadata": {},
   "source": [
    "# Automating Excel with Python using xlwings"
   ]
  },
  {
   "cell_type": "markdown",
   "id": "690671fa",
   "metadata": {},
   "source": [
    "\n",
    "This comprehensive guide covers using Python and xlwings for Excel automation, \n",
    "from basics to advanced topics. We'll explore connecting to Excel workbooks, \n",
    "manipulating ranges, integrating pandas for data analysis, and creating dynamic examples \n",
    "like an animated bar chart. Python's flexibility and rich ecosystem make it a superior alternative to VBA.\n"
   ]
  },
  {
   "cell_type": "markdown",
   "id": "5839f120",
   "metadata": {},
   "source": [
    "## 1. Installing xlwings and Basic Setup"
   ]
  },
  {
   "cell_type": "markdown",
   "id": "b7aabc12-00c4-4964-a409-596fa3e8157c",
   "metadata": {},
   "source": [
    "<p style=\"background:black\">\n",
    "<code style=\"background:black;color:white\">C:\\Users\\YOUR_USERNAME> pip install xlwings\n",
    "</code>\n",
    "</p>"
   ]
  },
  {
   "cell_type": "code",
   "execution_count": 1,
   "id": "ea5cc925",
   "metadata": {},
   "outputs": [
    {
     "data": {
      "text/plain": [
       "'0.33.4'"
      ]
     },
     "execution_count": 1,
     "metadata": {},
     "output_type": "execute_result"
    }
   ],
   "source": [
    "import xlwings as xw  # pip install xlwings\n",
    "import pandas as pd   # pip install pandas\n",
    "\n",
    "# Check the version of xlwings\n",
    "xw.__version__"
   ]
  },
  {
   "cell_type": "markdown",
   "id": "ec16d9d9",
   "metadata": {},
   "source": [
    "\n",
    "### Explanation\n",
    "- **Installation:** Install xlwings using `pip install xlwings`.\n",
    "- **Version Check:** Ensures xlwings is properly installed and up to date.\n"
   ]
  },
  {
   "cell_type": "markdown",
   "id": "8b162792",
   "metadata": {},
   "source": [
    "## 2. Connecting to an Excel Workbook"
   ]
  },
  {
   "cell_type": "markdown",
   "id": "b860b280-4939-47c9-806c-5a26dec2812b",
   "metadata": {
    "heading_collapsed": true,
    "hidden": true
   },
   "source": [
    "### Three different scenarios [New Book, Unsaved Book, Saved Book]"
   ]
  },
  {
   "cell_type": "markdown",
   "id": "14448f2f-3a2f-4d3f-8691-975403415077",
   "metadata": {
    "hidden": true
   },
   "source": [
    "|  | xw.Book |\n",
    "| :- | :- |\n",
    "| New Book | xw.Book() |\n",
    "| Unsaved book | xw.Book('Book1') |\n",
    "| Book by (full)name | xw.Book(r'C:/path/to/file.xlsx')|\n"
   ]
  },
  {
   "cell_type": "markdown",
   "id": "5548b76f-1eea-4e89-af8a-2bcdb3d279fe",
   "metadata": {
    "hidden": true
   },
   "source": [
    "👉 **`xlwings`** Documentation: https://docs.xlwings.org/en/stable/connect_to_workbook.html"
   ]
  },
  {
   "cell_type": "code",
   "execution_count": 2,
   "id": "af9ee906",
   "metadata": {},
   "outputs": [
    {
     "data": {
      "text/plain": [
       "'Sheet1'"
      ]
     },
     "execution_count": 2,
     "metadata": {},
     "output_type": "execute_result"
    }
   ],
   "source": [
    "# Connect to Excel (comment/uncomment as needed)\n",
    "wb = xw.Book()  # Create a new workbook\n",
    "# wb = xw.Book('example.xlsx')  # Open an existing workbook\n",
    "\n",
    "# Get the active sheet\n",
    "sheet = wb.sheets.active\n",
    "\n",
    "# Display the name of the active sheet\n",
    "sheet.name"
   ]
  },
  {
   "cell_type": "markdown",
   "id": "b3fc314e",
   "metadata": {},
   "source": [
    "\n",
    "### Explanation\n",
    "- **New Workbook:** Creates a blank Excel workbook.\n",
    "- **Existing Workbook:** Opens a specified Excel file.\n",
    "- **Active Sheet:** The current sheet where actions are performed.\n"
   ]
  },
  {
   "cell_type": "markdown",
   "id": "b9a3dc21",
   "metadata": {},
   "source": [
    "## 3. Writing and Reading Data"
   ]
  },
  {
   "cell_type": "code",
   "execution_count": 3,
   "id": "4a7c36a1",
   "metadata": {},
   "outputs": [
    {
     "data": {
      "text/plain": [
       "'Hello, xlwings!'"
      ]
     },
     "execution_count": 3,
     "metadata": {},
     "output_type": "execute_result"
    }
   ],
   "source": [
    "# Write to a cell (comment/uncomment to test)\n",
    "sheet.range(\"A1\").value = \"Hello, xlwings!\"\n",
    "\n",
    "# Read from a cell\n",
    "value = sheet.range(\"A1\").value\n",
    "value"
   ]
  },
  {
   "cell_type": "markdown",
   "id": "d45a2dd1",
   "metadata": {},
   "source": [
    "\n",
    "### Explanation\n",
    "- **Write to Excel:** Assign values to cells or ranges.\n",
    "- **Read from Excel:** Retrieve data from Excel for processing in Python.\n"
   ]
  },
  {
   "cell_type": "markdown",
   "id": "5aa4cf8e",
   "metadata": {},
   "source": [
    "## 4. Working with Ranges and Formulas"
   ]
  },
  {
   "cell_type": "code",
   "execution_count": 4,
   "id": "46f15e72",
   "metadata": {},
   "outputs": [],
   "source": [
    "# Writing multiple values to a range\n",
    "sheet.range(\"A2\").value = [[\"Name\", \"Age\"], [\"Alice\", 25], [\"Bob\", 30]]\n",
    "\n",
    "# Reading multiple values from a range\n",
    "data = sheet.range(\"A3:B4\").value\n",
    "data\n",
    "\n",
    "# Writing a formula\n",
    "sheet.range(\"C2\").value = \"=SUM(B3:B4)\""
   ]
  },
  {
   "cell_type": "markdown",
   "id": "14ab304c",
   "metadata": {},
   "source": [
    "\n",
    "### Explanation\n",
    "- **Ranges:** Supports writing and reading lists or tables.\n",
    "- **Formulas:** xlwings allows dynamic formula creation for Excel calculations.\n"
   ]
  },
  {
   "cell_type": "markdown",
   "id": "0d63d737",
   "metadata": {},
   "source": [
    "## 5. Integrating pandas for Data Analysis"
   ]
  },
  {
   "cell_type": "code",
   "execution_count": 6,
   "id": "265934cb",
   "metadata": {},
   "outputs": [
    {
     "data": {
      "text/html": [
       "<div>\n",
       "<style scoped>\n",
       "    .dataframe tbody tr th:only-of-type {\n",
       "        vertical-align: middle;\n",
       "    }\n",
       "\n",
       "    .dataframe tbody tr th {\n",
       "        vertical-align: top;\n",
       "    }\n",
       "\n",
       "    .dataframe thead th {\n",
       "        text-align: right;\n",
       "    }\n",
       "</style>\n",
       "<table border=\"1\" class=\"dataframe\">\n",
       "  <thead>\n",
       "    <tr style=\"text-align: right;\">\n",
       "      <th></th>\n",
       "      <th>Product</th>\n",
       "      <th>Sales</th>\n",
       "    </tr>\n",
       "  </thead>\n",
       "  <tbody>\n",
       "    <tr>\n",
       "      <th>0</th>\n",
       "      <td>A</td>\n",
       "      <td>50.0</td>\n",
       "    </tr>\n",
       "    <tr>\n",
       "      <th>1</th>\n",
       "      <td>B</td>\n",
       "      <td>10.0</td>\n",
       "    </tr>\n",
       "    <tr>\n",
       "      <th>2</th>\n",
       "      <td>C</td>\n",
       "      <td>30.0</td>\n",
       "    </tr>\n",
       "  </tbody>\n",
       "</table>\n",
       "</div>"
      ],
      "text/plain": [
       "  Product  Sales\n",
       "0       A   50.0\n",
       "1       B   10.0\n",
       "2       C   30.0"
      ]
     },
     "execution_count": 6,
     "metadata": {},
     "output_type": "execute_result"
    }
   ],
   "source": [
    "# Create a pandas DataFrame\n",
    "df = pd.DataFrame({\n",
    "    \"Product\": [\"A\", \"B\", \"C\"],\n",
    "    \"Sales\": [100, 150, 200]\n",
    "})\n",
    "\n",
    "# Write DataFrame to Excel (comment/uncomment to test)\n",
    "sheet.range(\"A5\").value = df\n",
    "\n",
    "# Read data back into a DataFrame (comment/uncomment to test)\n",
    "df_from_excel = sheet.range(\"B5\").options(pd.DataFrame, expand=\"table\", index=False).value\n",
    "df_from_excel"
   ]
  },
  {
   "cell_type": "markdown",
   "id": "754d6382",
   "metadata": {},
   "source": [
    "\n",
    "### Explanation\n",
    "- **DataFrame to Excel:** Directly write pandas DataFrames to Excel for visualization.\n",
    "- **Excel to DataFrame:** Retrieve structured data for analysis in Python.\n"
   ]
  },
  {
   "cell_type": "markdown",
   "id": "6a434c18",
   "metadata": {},
   "source": [
    "## 6. Closing the Workbook"
   ]
  },
  {
   "cell_type": "code",
   "execution_count": 7,
   "id": "dee1a54f",
   "metadata": {},
   "outputs": [],
   "source": [
    "# Close the workbook without saving\n",
    "# wb.close()\n",
    "\n",
    "# Or save the workbook\n",
    "wb.save(\"automated_report.xlsx\")\n",
    "wb.close()"
   ]
  },
  {
   "cell_type": "markdown",
   "id": "e715ea0d-c873-48b6-bacf-64b5ef57e5fe",
   "metadata": {},
   "source": [
    "## 7. Important Remark: Use the context manager with xlwings"
   ]
  },
  {
   "cell_type": "markdown",
   "id": "538b875a-c697-4182-89b9-82f5b98c04c3",
   "metadata": {},
   "source": [
    "### Why Use a Context Manager with xlwings?\n",
    "\n",
    "When automating Excel tasks with `xlwings`, it's essential to manage Excel application instances properly. Without a context manager, an error in your script could leave behind \"zombie\" Excel instances running in the background, consuming memory and resources.\n",
    "\n",
    "By using a context manager (`with xw.App() as app:`), you ensure:\n",
    "\n",
    "1. **Automatic Cleanup**: The Excel application is closed automatically when the block ends, even if an error occurs.\n",
    "2. **Error Handling**: Prevents leftover processes, which can slow down your system and cause conflicts.\n",
    "3. **Simpler Code**: No need to manually call `app.quit()`—the context manager handles it for you."
   ]
  },
  {
   "cell_type": "code",
   "execution_count": 8,
   "id": "531f408c-1df1-4cc1-a4f7-4fdf8ee45c6d",
   "metadata": {},
   "outputs": [
    {
     "name": "stdout",
     "output_type": "stream",
     "text": [
      "Hello, xlwings!\n"
     ]
    }
   ],
   "source": [
    "import xlwings as xw\n",
    "\n",
    "# Open an Excel app as a context manager\n",
    "with xw.App(visible=False) as app:  # Ensure the app runs in the background\n",
    "    # Add a new workbook\n",
    "    wb = app.books.add()\n",
    "\n",
    "    # Get the active sheet\n",
    "    sheet = wb.sheets[0]\n",
    "\n",
    "    # Write data to the sheet\n",
    "    sheet.range(\"A1\").value = \"Hello, xlwings!\"\n",
    "\n",
    "    # Read the written data\n",
    "    print(sheet.range(\"A1\").value)\n",
    "\n",
    "    # Save the workbook\n",
    "    wb.save(\"example_context_manager.xlsx\")\n",
    "\n",
    "    # Close the workbook\n",
    "    wb.close()\n",
    "\n",
    "# At this point, the app is automatically closed"
   ]
  },
  {
   "cell_type": "markdown",
   "id": "7670f88b",
   "metadata": {},
   "source": [
    "\n",
    "### Explanation\n",
    "- **Save:** Save changes to a file.\n",
    "- **Close:** Close the workbook, optionally discarding changes.\n"
   ]
  },
  {
   "cell_type": "markdown",
   "id": "67e45146-a9e0-4871-b1c6-bb48341a65a4",
   "metadata": {},
   "source": [
    "## 8. Practical Example"
   ]
  },
  {
   "cell_type": "code",
   "execution_count": 9,
   "id": "18223dd9-c4b1-426a-9609-80d9cb079749",
   "metadata": {
    "hidden": true
   },
   "outputs": [
    {
     "name": "stderr",
     "output_type": "stream",
     "text": [
      "DEPRECATION: Loading egg at c:\\users\\codin\\appdata\\local\\programs\\python\\python312\\lib\\site-packages\\vboxapi-1.0-py3.12.egg is deprecated. pip 25.1 will enforce this behaviour change. A possible replacement is to use pip for package installation. Discussion can be found at https://github.com/pypa/pip/issues/12330\n"
     ]
    }
   ],
   "source": [
    "# Install package into the instance of Python that launched the notebook\n",
    "!pip install QuantStats  --quiet"
   ]
  },
  {
   "cell_type": "code",
   "execution_count": 10,
   "id": "62187a82-52c5-4a4b-959d-1a9ed353150e",
   "metadata": {
    "hidden": true
   },
   "outputs": [],
   "source": [
    "# Imports\n",
    "from pathlib import Path\n",
    "import quantstats as qs"
   ]
  },
  {
   "cell_type": "code",
   "execution_count": 11,
   "id": "796278c6-ca8e-4713-b353-45c52781dfcc",
   "metadata": {
    "hidden": true
   },
   "outputs": [],
   "source": [
    "# Specify excel file location (works on Mac & Windows)\n",
    "filename = Path(\"stock_report/stock_report.xlsx\")\n",
    "\n",
    "# Open Workbook\n",
    "wb = xw.Book(filename)\n",
    "\n",
    "# Select Sheet\n",
    "sht = wb.sheets['Report']"
   ]
  },
  {
   "cell_type": "code",
   "execution_count": 12,
   "id": "84a27623-95d1-49e0-9f61-5f289fb0e073",
   "metadata": {
    "hidden": true
   },
   "outputs": [],
   "source": [
    "def generate_stock_report_as_pdf():\n",
    "    \n",
    "    # --- EXCEL DATA ---\n",
    "    # Get the ticker symbol from Worksheet\n",
    "    ticker = sht.range('TICKER_SYMBOL').value  \n",
    "    \n",
    "    ####################################################################\n",
    "    \n",
    "    # --- DO SOMETHING WITH THE EXCEL DATA IN PYTHON ---    \n",
    "    # Fetch the daily returns for a stock \n",
    "    stock = qs.utils.download_returns(ticker)\n",
    "\n",
    "    # Image location\n",
    "    snapshot_path = Path('stock_report/snapshot.png')\n",
    "    heatmap_path = Path('stock_report/return_heatmap.png')\n",
    "\n",
    "    # Title of Snapshot Report\n",
    "    title = f\"{ticker} Performance\"\n",
    "\n",
    "    # Generate snapshot report of any given ticker symbol\n",
    "    stock_snapshot = qs.plots.snapshot(stock,  \n",
    "                                      title=title, \n",
    "                                      savefig=snapshot_path,\n",
    "                                      show=False)\n",
    "\n",
    "    # Generate montly return heatmap\n",
    "    stock_heatmap = qs.plots.monthly_heatmap(stock, \n",
    "                                             savefig=heatmap_path,\n",
    "                                             show=False)\n",
    "    \n",
    "    ######################################################################    \n",
    "    \n",
    "    # --- RETURN RESULT BACK TO EXCEL ---\n",
    "    # Add Picutures to Excel\n",
    "    sht.pictures.add(snapshot_path.absolute(), \n",
    "                     name='snapshot', \n",
    "                     update=True)\n",
    "    sht.pictures.add(heatmap_path.absolute(), \n",
    "                     name='heatmap', \n",
    "                     update=True)\n",
    "\n",
    "    # Save PDF Report\n",
    "    wb.to_pdf('stock_report/stockreport')\n",
    "    \n",
    "    return None"
   ]
  },
  {
   "cell_type": "code",
   "execution_count": 13,
   "id": "c8909c9c-f907-4991-a763-14d066bdc97d",
   "metadata": {
    "hidden": true
   },
   "outputs": [],
   "source": [
    "# Generate Stock Report and save as PDF\n",
    "generate_stock_report_as_pdf()"
   ]
  },
  {
   "cell_type": "markdown",
   "id": "63d614a9-e879-44e8-9b1b-18477c1a2185",
   "metadata": {},
   "source": [
    "## Want to learn more?"
   ]
  },
  {
   "cell_type": "markdown",
   "id": "2515c7cd-b43b-479f-8de9-50dd800d2e82",
   "metadata": {},
   "source": [
    "<div class=\"alert alert-block alert-success\">\n",
    "If you’re ready to dive deeper into Excel automation and save hours on repetitive tasks, check out my <b>Excel Automation Course</b>.<br> It’s designed to help you work smarter and get more done.<br>\n",
    "👉 <a href=\"https://pythonandvba.com/go/courses\">Sign up here</a>!\n",
    "</div>\n"
   ]
  },
  {
   "cell_type": "code",
   "execution_count": null,
   "id": "d602ec1a-4c9c-4160-b7dc-34bde3b97164",
   "metadata": {},
   "outputs": [],
   "source": []
  }
 ],
 "metadata": {
  "kernelspec": {
   "display_name": "Python 3 (ipykernel)",
   "language": "python",
   "name": "python3"
  },
  "language_info": {
   "codemirror_mode": {
    "name": "ipython",
    "version": 3
   },
   "file_extension": ".py",
   "mimetype": "text/x-python",
   "name": "python",
   "nbconvert_exporter": "python",
   "pygments_lexer": "ipython3",
   "version": "3.12.6"
  }
 },
 "nbformat": 4,
 "nbformat_minor": 5
}
